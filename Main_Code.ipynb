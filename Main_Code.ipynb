{
 "cells": [
  {
   "cell_type": "code",
   "execution_count": null,
   "id": "b6acb714",
   "metadata": {},
   "outputs": [],
   "source": [
    "from langchain_community.document_loaders import PyPDFLoader\n",
    "\n",
    "file_path = \"1719227188415-Prospectus 2024-2025.pdf\"\n",
    "loader = PyPDFLoader(file_path)\n",
    "docs = loader.load()\n",
    "print(len(docs))"
   ]
  },
  {
   "cell_type": "code",
   "execution_count": null,
   "id": "1cfa9cbc",
   "metadata": {},
   "outputs": [],
   "source": [
    "print(f\"{docs[0].page_content[:200]}\\n\")\n",
    "print(docs[0].metadata)"
   ]
  },
  {
   "cell_type": "code",
   "execution_count": null,
   "id": "51f5a487",
   "metadata": {},
   "outputs": [],
   "source": [
    "from langchain_text_splitters import RecursiveCharacterTextSplitter\n",
    "\n",
    "text_splitter = RecursiveCharacterTextSplitter(\n",
    "    chunk_size=300, chunk_overlap=50, add_start_index=True\n",
    ")\n",
    "all_splits = text_splitter.split_documents(docs)\n",
    "\n",
    "len(all_splits)"
   ]
  },
  {
   "cell_type": "code",
   "execution_count": null,
   "id": "a68cd625",
   "metadata": {},
   "outputs": [],
   "source": [
    "\n",
    "from langchain.embeddings import HuggingFaceEmbeddings\n",
    "\n",
    "# Step 1: Load & split documents\n",
    "# (Assume you already have `docs`)\n",
    "embeddings = HuggingFaceEmbeddings(model_name=\"BAAI/bge-base-en-v1.5\")"
   ]
  },
  {
   "cell_type": "code",
   "execution_count": null,
   "id": "6d553fb3",
   "metadata": {},
   "outputs": [],
   "source": [
    "from langchain.vectorstores import FAISS\n",
    "\n",
    "# Create FAISS vector store\n",
    "db = FAISS.from_documents(docs, embeddings)\n",
    "\n",
    "# Save the vectorstore locally\n",
    "db.save_local(\"vector_db/college_docs_index\")\n"
   ]
  },
  {
   "cell_type": "code",
   "execution_count": null,
   "id": "55b19d60",
   "metadata": {},
   "outputs": [],
   "source": [
    "ids = db.add_documents(documents=all_splits)"
   ]
  },
  {
   "cell_type": "code",
   "execution_count": null,
   "id": "a34d595a",
   "metadata": {},
   "outputs": [],
   "source": [
    "from langchain.llms import LlamaCpp\n",
    "\n",
    "llm = LlamaCpp(\n",
    "    model_path=\"model/tinyllama-1.1b-chat-v1.0.Q4_K_M.gguf\",\n",
    "    temperature=0.2,\n",
    "    max_tokens=256,\n",
    "    n_ctx=2048,\n",
    "    verbose=False\n",
    ")\n"
   ]
  },
  {
   "cell_type": "code",
   "execution_count": null,
   "id": "c617c1f6",
   "metadata": {},
   "outputs": [],
   "source": [
    "from langchain_core.prompts import HumanMessagePromptTemplate, ChatPromptTemplate\n",
    "\n",
    "full_prompt = HumanMessagePromptTemplate.from_template(\n",
    "    \"You are a strict college chatbot. Only answer questions related to college academics, hostel, and admission. Do not answer unrelated questions (e.g., food, movies, games). If the context is not helpful, say: I don't know.\"\n",
    "    \"Question: {question} \\n\"\n",
    "    \"Context: {context} \\n\"\n",
    "    \"Answer:\"\n",
    ")\n",
    "\n",
    "prompt = ChatPromptTemplate.from_messages([full_prompt])\n",
    "\n",
    "\n",
    "output_messages = prompt.invoke({\n",
    "    \"question\": \"What are the eligibility criteria for the M.Tech program?\",\n",
    "    \"context\": \"The M.Tech admissions require a valid GATE score and a bachelor's degree in a relevant engineering stream with at least 60% marks.\"\n",
    "}).to_messages()\n",
    "\n",
    "print(output_messages[0].content)"
   ]
  },
  {
   "cell_type": "code",
   "execution_count": null,
   "id": "066c7b9c",
   "metadata": {},
   "outputs": [],
   "source": [
    "from langchain_core.documents import Document\n",
    "from typing_extensions import List, TypedDict\n",
    "\n",
    "\n",
    "class State(TypedDict):\n",
    "    question: str\n",
    "    context: List[Document]\n",
    "    answer: str"
   ]
  },
  {
   "cell_type": "code",
   "execution_count": null,
   "id": "740a64ec",
   "metadata": {},
   "outputs": [],
   "source": [
    "def retrieve(state: State):\n",
    "    docs_with_scores = db.similarity_search_with_score(state[\"question\"], k=3)\n",
    "    THRESHOLD = 0.75\n",
    "\n",
    "    filtered_docs = [doc for doc, score in docs_with_scores if score >= THRESHOLD]\n",
    "    \n",
    "    if not filtered_docs:\n",
    "        return {\"context\":\"\",\n",
    "                \"answer\": \"Sorry, that question is not related to college information. Please ask about admissions, hostels, or academics.\"}\n",
    "\n",
    "\n",
    "def generate(state: State):\n",
    "    docs_content = \"\\n\\n\".join(doc.page_content for doc in state[\"context\"])\n",
    "    messages = prompt.invoke({\"question\": state[\"question\"], \"context\": docs_content})\n",
    "    response = llm.invoke(messages)\n",
    "    return {\"answer\": response}"
   ]
  },
  {
   "cell_type": "code",
   "execution_count": null,
   "id": "d7a065f7",
   "metadata": {},
   "outputs": [],
   "source": [
    "from langgraph.graph import START, StateGraph\n",
    "\n",
    "graph_builder = StateGraph(State).add_sequence([retrieve, generate])\n",
    "graph_builder.add_edge(START, \"retrieve\")\n",
    "graph = graph_builder.compile()"
   ]
  },
  {
   "cell_type": "code",
   "execution_count": null,
   "id": "331e02d2",
   "metadata": {},
   "outputs": [],
   "source": [
    "result = graph.invoke({\"question\": \"Is kettle allowed in the hostel?\"})\n",
    "print(result['answer'])"
   ]
  }
 ],
 "metadata": {
  "kernelspec": {
   "display_name": "Python 3",
   "language": "python",
   "name": "python3"
  },
  "language_info": {
   "codemirror_mode": {
    "name": "ipython",
    "version": 3
   },
   "file_extension": ".py",
   "mimetype": "text/x-python",
   "name": "python",
   "nbconvert_exporter": "python",
   "pygments_lexer": "ipython3",
   "version": "3.12.7"
  }
 },
 "nbformat": 4,
 "nbformat_minor": 5
}
